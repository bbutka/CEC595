{
  "nbformat": 4,
  "nbformat_minor": 0,
  "metadata": {
    "colab": {
      "name": "Copy of L13qs.ipynb",
      "provenance": [],
      "collapsed_sections": [],
      "include_colab_link": true
    },
    "language_info": {
      "codemirror_mode": {
        "name": "ipython",
        "version": 3
      },
      "file_extension": ".py",
      "mimetype": "text/x-python",
      "name": "python",
      "nbconvert_exporter": "python",
      "pygments_lexer": "ipython3",
      "version": "3.6.8"
    },
    "kernelspec": {
      "display_name": "Python 3",
      "language": "python",
      "name": "python3"
    },
    "accelerator": "GPU"
  },
  "cells": [
    {
      "cell_type": "markdown",
      "metadata": {
        "id": "view-in-github",
        "colab_type": "text"
      },
      "source": [
        "<a href=\"https://colab.research.google.com/github/bbutka/CEC595/blob/main/HW_Roulette.ipynb\" target=\"_parent\"><img src=\"https://colab.research.google.com/assets/colab-badge.svg\" alt=\"Open In Colab\"/></a>"
      ]
    },
    {
      "cell_type": "markdown",
      "metadata": {
        "id": "JiXC-FZTgL_u"
      },
      "source": [
        "Use the Open Ai roulette gym\r\n",
        "\r\n",
        "Since this roulette environment has many more actions (38) than blackjack (2),  the code is designed to handle arbitary action sets. argmax is a useful routine for indicating which element of a vector contains the largest value."
      ]
    },
    {
      "cell_type": "code",
      "metadata": {
        "id": "obnsn2pb-ff_"
      },
      "source": [
        "import gym\n",
        "import graphviz \t\t\n",
        "from sklearn import tree\n",
        "\n",
        "def argmax(v):\n",
        "  i = 0\n",
        "  mx = v[i]\n",
        "  mxi = 0\n",
        "  while i < len(v):\n",
        "    if v[i] > mx: mx, mxi = v[i], i\n",
        "    i += 1\n",
        "  return(mxi)"
      ],
      "execution_count": null,
      "outputs": []
    },
    {
      "cell_type": "markdown",
      "metadata": {
        "id": "T43q5OAegmud"
      },
      "source": [
        "Set up the environment and some key parameters."
      ]
    },
    {
      "cell_type": "code",
      "metadata": {
        "id": "f-LIdH8ygUzm"
      },
      "source": [
        "env = gym.make(\"Roulette-v0\")\n",
        "gamma = 0.9\n",
        "epsilon = 0.1\n",
        "epochs = 4\n",
        "N = 10000\n",
        "gamma = 0.9"
      ],
      "execution_count": null,
      "outputs": []
    },
    {
      "cell_type": "markdown",
      "metadata": {
        "id": "kYCDjNu5gVX3"
      },
      "source": [
        "Here's the modified learner. It learns for N episodes, repeats epochs times, then displays the decision tree representing the learned value function."
      ]
    },
    {
      "cell_type": "code",
      "metadata": {
        "id": "M8phwmTeyygt",
        "colab": {
          "base_uri": "https://localhost:8080/"
        },
        "outputId": "b4e5afb1-4086-48ee-d20e-55b0bf9574b8"
      },
      "source": [
        "import random\r\n",
        "random.random"
      ],
      "execution_count": null,
      "outputs": [
        {
          "output_type": "execute_result",
          "data": {
            "text/plain": [
              "<function Random.random>"
            ]
          },
          "metadata": {
            "tags": []
          },
          "execution_count": 3
        }
      ]
    },
    {
      "cell_type": "code",
      "metadata": {
        "id": "C2HyiDINIRHj",
        "colab": {
          "base_uri": "https://localhost:8080/",
          "height": 796
        },
        "outputId": "86276fb5-4db6-4442-d85e-fc133c0193cb"
      },
      "source": [
        "env = gym.make(\"Roulette-v0\")\n",
        "\n",
        "for epoch in range(epochs):\n",
        "  dat = []\n",
        "  lab = []\n",
        "  for _ in range(N):\n",
        "    done = False\n",
        "    observation, ret = env.reset(), 0\n",
        "    while not done:\n",
        "      # pick an action\n",
        "      if epoch == 0:\n",
        "        action = env.action_space.sample()\n",
        "      else:\n",
        "        # predict values, choose greedily\n",
        "        pred = clf.predict([(observation, a) for a in range(env.action_space.n)])\n",
        "        action = argmax(pred)\n",
        "      # epsilon greedy\n",
        "      if random.random() < epsilon:\n",
        "        action = env.action_space.sample()\n",
        "      dat += [(observation, action)]\n",
        "      observation, reward, done, info = env.step(action)\n",
        "      ret += reward\n",
        "      if done:\n",
        "        target = reward\n",
        "      elif epoch == 0:\n",
        "#        target = -1+2*random.random()\n",
        "        target = 0\n",
        "      else:\n",
        "        pred = clf.predict([(observation, a) for a in range(env.action_space.n)])\n",
        "        target = reward + gamma * max(pred)\n",
        "      lab += [target]\n",
        "  clf = tree.DecisionTreeRegressor(max_leaf_nodes = 6)\t\n",
        "  clf = clf.fit(dat, lab)\n",
        "\n",
        "  dot_data = tree.export_graphviz(clf, # class_names = [-1, 0, 1],\n",
        "                                feature_names = [\"state\", \"action\"], filled=True, rounded=True) \n",
        "  graph = graphviz.Source(dot_data)\t\n",
        "  env.close()\n",
        "graph"
      ],
      "execution_count": null,
      "outputs": [
        {
          "output_type": "execute_result",
          "data": {
            "text/plain": [
              "<graphviz.files.Source at 0x7f0789bdfed0>"
            ],
            "image/svg+xml": "<?xml version=\"1.0\" encoding=\"UTF-8\" standalone=\"no\"?>\n<!DOCTYPE svg PUBLIC \"-//W3C//DTD SVG 1.1//EN\"\n \"http://www.w3.org/Graphics/SVG/1.1/DTD/svg11.dtd\">\n<!-- Generated by graphviz version 2.40.1 (20161225.0304)\n -->\n<!-- Title: Tree Pages: 1 -->\n<svg width=\"438pt\" height=\"581pt\"\n viewBox=\"0.00 0.00 437.50 581.00\" xmlns=\"http://www.w3.org/2000/svg\" xmlns:xlink=\"http://www.w3.org/1999/xlink\">\n<g id=\"graph0\" class=\"graph\" transform=\"scale(1 1) rotate(0) translate(4 577)\">\n<title>Tree</title>\n<polygon fill=\"#ffffff\" stroke=\"transparent\" points=\"-4,4 -4,-577 433.5,-577 433.5,4 -4,4\"/>\n<!-- 0 -->\n<g id=\"node1\" class=\"node\">\n<title>0</title>\n<path fill=\"#e99456\" stroke=\"#000000\" d=\"M200,-573C200,-573 87,-573 87,-573 81,-573 75,-567 75,-561 75,-561 75,-517 75,-517 75,-511 81,-505 87,-505 87,-505 200,-505 200,-505 206,-505 212,-511 212,-517 212,-517 212,-561 212,-561 212,-567 206,-573 200,-573\"/>\n<text text-anchor=\"middle\" x=\"143.5\" y=\"-557.8\" font-family=\"Helvetica,sans-Serif\" font-size=\"14.00\" fill=\"#000000\">action &lt;= 2.5</text>\n<text text-anchor=\"middle\" x=\"143.5\" y=\"-542.8\" font-family=\"Helvetica,sans-Serif\" font-size=\"14.00\" fill=\"#000000\">mse = 32.543</text>\n<text text-anchor=\"middle\" x=\"143.5\" y=\"-527.8\" font-family=\"Helvetica,sans-Serif\" font-size=\"14.00\" fill=\"#000000\">samples = 882584</text>\n<text text-anchor=\"middle\" x=\"143.5\" y=\"-512.8\" font-family=\"Helvetica,sans-Serif\" font-size=\"14.00\" fill=\"#000000\">value = 0.092</text>\n</g>\n<!-- 1 -->\n<g id=\"node2\" class=\"node\">\n<title>1</title>\n<path fill=\"#e89152\" stroke=\"#000000\" d=\"M125,-461.5C125,-461.5 12,-461.5 12,-461.5 6,-461.5 0,-455.5 0,-449.5 0,-449.5 0,-420.5 0,-420.5 0,-414.5 6,-408.5 12,-408.5 12,-408.5 125,-408.5 125,-408.5 131,-408.5 137,-414.5 137,-420.5 137,-420.5 137,-449.5 137,-449.5 137,-455.5 131,-461.5 125,-461.5\"/>\n<text text-anchor=\"middle\" x=\"68.5\" y=\"-446.3\" font-family=\"Helvetica,sans-Serif\" font-size=\"14.00\" fill=\"#000000\">mse = 35.744</text>\n<text text-anchor=\"middle\" x=\"68.5\" y=\"-431.3\" font-family=\"Helvetica,sans-Serif\" font-size=\"14.00\" fill=\"#000000\">samples = 801326</text>\n<text text-anchor=\"middle\" x=\"68.5\" y=\"-416.3\" font-family=\"Helvetica,sans-Serif\" font-size=\"14.00\" fill=\"#000000\">value = 0.094</text>\n</g>\n<!-- 0&#45;&gt;1 -->\n<g id=\"edge1\" class=\"edge\">\n<title>0&#45;&gt;1</title>\n<path fill=\"none\" stroke=\"#000000\" d=\"M118.9422,-504.9465C110.8399,-493.7113 101.8188,-481.2021 93.6714,-469.9043\"/>\n<polygon fill=\"#000000\" stroke=\"#000000\" points=\"96.3291,-467.6058 87.641,-461.5422 90.6514,-471.7003 96.3291,-467.6058\"/>\n<text text-anchor=\"middle\" x=\"83.6428\" y=\"-482.5204\" font-family=\"Helvetica,sans-Serif\" font-size=\"14.00\" fill=\"#000000\">True</text>\n</g>\n<!-- 2 -->\n<g id=\"node3\" class=\"node\">\n<title>2</title>\n<path fill=\"#eeac7d\" stroke=\"#000000\" d=\"M271.5,-469C271.5,-469 167.5,-469 167.5,-469 161.5,-469 155.5,-463 155.5,-457 155.5,-457 155.5,-413 155.5,-413 155.5,-407 161.5,-401 167.5,-401 167.5,-401 271.5,-401 271.5,-401 277.5,-401 283.5,-407 283.5,-413 283.5,-413 283.5,-457 283.5,-457 283.5,-463 277.5,-469 271.5,-469\"/>\n<text text-anchor=\"middle\" x=\"219.5\" y=\"-453.8\" font-family=\"Helvetica,sans-Serif\" font-size=\"14.00\" fill=\"#000000\">action &lt;= 36.5</text>\n<text text-anchor=\"middle\" x=\"219.5\" y=\"-438.8\" font-family=\"Helvetica,sans-Serif\" font-size=\"14.00\" fill=\"#000000\">mse = 0.971</text>\n<text text-anchor=\"middle\" x=\"219.5\" y=\"-423.8\" font-family=\"Helvetica,sans-Serif\" font-size=\"14.00\" fill=\"#000000\">samples = 81258</text>\n<text text-anchor=\"middle\" x=\"219.5\" y=\"-408.8\" font-family=\"Helvetica,sans-Serif\" font-size=\"14.00\" fill=\"#000000\">value = 0.071</text>\n</g>\n<!-- 0&#45;&gt;2 -->\n<g id=\"edge2\" class=\"edge\">\n<title>0&#45;&gt;2</title>\n<path fill=\"none\" stroke=\"#000000\" d=\"M168.3852,-504.9465C174.8153,-496.1475 181.8163,-486.5672 188.5159,-477.3993\"/>\n<polygon fill=\"#000000\" stroke=\"#000000\" points=\"191.4845,-479.269 194.5588,-469.13 185.8328,-475.1389 191.4845,-479.269\"/>\n<text text-anchor=\"middle\" x=\"198.4015\" y=\"-490.1329\" font-family=\"Helvetica,sans-Serif\" font-size=\"14.00\" fill=\"#000000\">False</text>\n</g>\n<!-- 3 -->\n<g id=\"node4\" class=\"node\">\n<title>3</title>\n<path fill=\"#edaa7a\" stroke=\"#000000\" d=\"M200.5,-365C200.5,-365 96.5,-365 96.5,-365 90.5,-365 84.5,-359 84.5,-353 84.5,-353 84.5,-309 84.5,-309 84.5,-303 90.5,-297 96.5,-297 96.5,-297 200.5,-297 200.5,-297 206.5,-297 212.5,-303 212.5,-309 212.5,-309 212.5,-353 212.5,-353 212.5,-359 206.5,-365 200.5,-365\"/>\n<text text-anchor=\"middle\" x=\"148.5\" y=\"-349.8\" font-family=\"Helvetica,sans-Serif\" font-size=\"14.00\" fill=\"#000000\">action &lt;= 19.5</text>\n<text text-anchor=\"middle\" x=\"148.5\" y=\"-334.8\" font-family=\"Helvetica,sans-Serif\" font-size=\"14.00\" fill=\"#000000\">mse = 1.0</text>\n<text text-anchor=\"middle\" x=\"148.5\" y=\"-319.8\" font-family=\"Helvetica,sans-Serif\" font-size=\"14.00\" fill=\"#000000\">samples = 78967</text>\n<text text-anchor=\"middle\" x=\"148.5\" y=\"-304.8\" font-family=\"Helvetica,sans-Serif\" font-size=\"14.00\" fill=\"#000000\">value = 0.073</text>\n</g>\n<!-- 2&#45;&gt;3 -->\n<g id=\"edge3\" class=\"edge\">\n<title>2&#45;&gt;3</title>\n<path fill=\"none\" stroke=\"#000000\" d=\"M196.2519,-400.9465C190.245,-392.1475 183.7045,-382.5672 177.4457,-373.3993\"/>\n<polygon fill=\"#000000\" stroke=\"#000000\" points=\"180.3293,-371.4155 171.8003,-365.13 174.548,-375.3623 180.3293,-371.4155\"/>\n</g>\n<!-- 4 -->\n<g id=\"node11\" class=\"node\">\n<title>4</title>\n<path fill=\"#ffffff\" stroke=\"#000000\" d=\"M338.5,-357.5C338.5,-357.5 242.5,-357.5 242.5,-357.5 236.5,-357.5 230.5,-351.5 230.5,-345.5 230.5,-345.5 230.5,-316.5 230.5,-316.5 230.5,-310.5 236.5,-304.5 242.5,-304.5 242.5,-304.5 338.5,-304.5 338.5,-304.5 344.5,-304.5 350.5,-310.5 350.5,-316.5 350.5,-316.5 350.5,-345.5 350.5,-345.5 350.5,-351.5 344.5,-357.5 338.5,-357.5\"/>\n<text text-anchor=\"middle\" x=\"290.5\" y=\"-342.3\" font-family=\"Helvetica,sans-Serif\" font-size=\"14.00\" fill=\"#000000\">mse = 0.0</text>\n<text text-anchor=\"middle\" x=\"290.5\" y=\"-327.3\" font-family=\"Helvetica,sans-Serif\" font-size=\"14.00\" fill=\"#000000\">samples = 2291</text>\n<text text-anchor=\"middle\" x=\"290.5\" y=\"-312.3\" font-family=\"Helvetica,sans-Serif\" font-size=\"14.00\" fill=\"#000000\">value = 0.0</text>\n</g>\n<!-- 2&#45;&gt;4 -->\n<g id=\"edge10\" class=\"edge\">\n<title>2&#45;&gt;4</title>\n<path fill=\"none\" stroke=\"#000000\" d=\"M242.7481,-400.9465C250.4182,-389.7113 258.9582,-377.2021 266.6711,-365.9043\"/>\n<polygon fill=\"#000000\" stroke=\"#000000\" points=\"269.6322,-367.7745 272.3799,-357.5422 263.8509,-363.8277 269.6322,-367.7745\"/>\n</g>\n<!-- 5 -->\n<g id=\"node5\" class=\"node\">\n<title>5</title>\n<path fill=\"#eca471\" stroke=\"#000000\" d=\"M127.5,-253.5C127.5,-253.5 23.5,-253.5 23.5,-253.5 17.5,-253.5 11.5,-247.5 11.5,-241.5 11.5,-241.5 11.5,-212.5 11.5,-212.5 11.5,-206.5 17.5,-200.5 23.5,-200.5 23.5,-200.5 127.5,-200.5 127.5,-200.5 133.5,-200.5 139.5,-206.5 139.5,-212.5 139.5,-212.5 139.5,-241.5 139.5,-241.5 139.5,-247.5 133.5,-253.5 127.5,-253.5\"/>\n<text text-anchor=\"middle\" x=\"75.5\" y=\"-238.3\" font-family=\"Helvetica,sans-Serif\" font-size=\"14.00\" fill=\"#000000\">mse = 1.0</text>\n<text text-anchor=\"middle\" x=\"75.5\" y=\"-223.3\" font-family=\"Helvetica,sans-Serif\" font-size=\"14.00\" fill=\"#000000\">samples = 39592</text>\n<text text-anchor=\"middle\" x=\"75.5\" y=\"-208.3\" font-family=\"Helvetica,sans-Serif\" font-size=\"14.00\" fill=\"#000000\">value = 0.078</text>\n</g>\n<!-- 3&#45;&gt;5 -->\n<g id=\"edge4\" class=\"edge\">\n<title>3&#45;&gt;5</title>\n<path fill=\"none\" stroke=\"#000000\" d=\"M124.5971,-296.9465C116.7108,-285.7113 107.9303,-273.2021 100.0002,-261.9043\"/>\n<polygon fill=\"#000000\" stroke=\"#000000\" points=\"102.7405,-259.7163 94.1306,-253.5422 97.0111,-263.7379 102.7405,-259.7163\"/>\n</g>\n<!-- 6 -->\n<g id=\"node6\" class=\"node\">\n<title>6</title>\n<path fill=\"#efb082\" stroke=\"#000000\" d=\"M273.5,-261C273.5,-261 169.5,-261 169.5,-261 163.5,-261 157.5,-255 157.5,-249 157.5,-249 157.5,-205 157.5,-205 157.5,-199 163.5,-193 169.5,-193 169.5,-193 273.5,-193 273.5,-193 279.5,-193 285.5,-199 285.5,-205 285.5,-205 285.5,-249 285.5,-249 285.5,-255 279.5,-261 273.5,-261\"/>\n<text text-anchor=\"middle\" x=\"221.5\" y=\"-245.8\" font-family=\"Helvetica,sans-Serif\" font-size=\"14.00\" fill=\"#000000\">action &lt;= 28.5</text>\n<text text-anchor=\"middle\" x=\"221.5\" y=\"-230.8\" font-family=\"Helvetica,sans-Serif\" font-size=\"14.00\" fill=\"#000000\">mse = 0.999</text>\n<text text-anchor=\"middle\" x=\"221.5\" y=\"-215.8\" font-family=\"Helvetica,sans-Serif\" font-size=\"14.00\" fill=\"#000000\">samples = 39375</text>\n<text text-anchor=\"middle\" x=\"221.5\" y=\"-200.8\" font-family=\"Helvetica,sans-Serif\" font-size=\"14.00\" fill=\"#000000\">value = 0.068</text>\n</g>\n<!-- 3&#45;&gt;6 -->\n<g id=\"edge5\" class=\"edge\">\n<title>3&#45;&gt;6</title>\n<path fill=\"none\" stroke=\"#000000\" d=\"M172.4029,-296.9465C178.5791,-288.1475 185.3038,-278.5672 191.739,-269.3993\"/>\n<polygon fill=\"#000000\" stroke=\"#000000\" points=\"194.6629,-271.3258 197.5434,-261.13 188.9334,-267.3041 194.6629,-271.3258\"/>\n</g>\n<!-- 7 -->\n<g id=\"node7\" class=\"node\">\n<title>7</title>\n<path fill=\"#f1bd97\" stroke=\"#000000\" d=\"M200.5,-149.5C200.5,-149.5 96.5,-149.5 96.5,-149.5 90.5,-149.5 84.5,-143.5 84.5,-137.5 84.5,-137.5 84.5,-108.5 84.5,-108.5 84.5,-102.5 90.5,-96.5 96.5,-96.5 96.5,-96.5 200.5,-96.5 200.5,-96.5 206.5,-96.5 212.5,-102.5 212.5,-108.5 212.5,-108.5 212.5,-137.5 212.5,-137.5 212.5,-143.5 206.5,-149.5 200.5,-149.5\"/>\n<text text-anchor=\"middle\" x=\"148.5\" y=\"-134.3\" font-family=\"Helvetica,sans-Serif\" font-size=\"14.00\" fill=\"#000000\">mse = 0.998</text>\n<text text-anchor=\"middle\" x=\"148.5\" y=\"-119.3\" font-family=\"Helvetica,sans-Serif\" font-size=\"14.00\" fill=\"#000000\">samples = 20745</text>\n<text text-anchor=\"middle\" x=\"148.5\" y=\"-104.3\" font-family=\"Helvetica,sans-Serif\" font-size=\"14.00\" fill=\"#000000\">value = 0.057</text>\n</g>\n<!-- 6&#45;&gt;7 -->\n<g id=\"edge6\" class=\"edge\">\n<title>6&#45;&gt;7</title>\n<path fill=\"none\" stroke=\"#000000\" d=\"M197.5971,-192.9465C189.7108,-181.7113 180.9303,-169.2021 173.0002,-157.9043\"/>\n<polygon fill=\"#000000\" stroke=\"#000000\" points=\"175.7405,-155.7163 167.1306,-149.5422 170.0111,-159.7379 175.7405,-155.7163\"/>\n</g>\n<!-- 8 -->\n<g id=\"node8\" class=\"node\">\n<title>8</title>\n<path fill=\"#eca16b\" stroke=\"#000000\" d=\"M346.5,-157C346.5,-157 242.5,-157 242.5,-157 236.5,-157 230.5,-151 230.5,-145 230.5,-145 230.5,-101 230.5,-101 230.5,-95 236.5,-89 242.5,-89 242.5,-89 346.5,-89 346.5,-89 352.5,-89 358.5,-95 358.5,-101 358.5,-101 358.5,-145 358.5,-145 358.5,-151 352.5,-157 346.5,-157\"/>\n<text text-anchor=\"middle\" x=\"294.5\" y=\"-141.8\" font-family=\"Helvetica,sans-Serif\" font-size=\"14.00\" fill=\"#000000\">action &lt;= 29.5</text>\n<text text-anchor=\"middle\" x=\"294.5\" y=\"-126.8\" font-family=\"Helvetica,sans-Serif\" font-size=\"14.00\" fill=\"#000000\">mse = 1.0</text>\n<text text-anchor=\"middle\" x=\"294.5\" y=\"-111.8\" font-family=\"Helvetica,sans-Serif\" font-size=\"14.00\" fill=\"#000000\">samples = 18630</text>\n<text text-anchor=\"middle\" x=\"294.5\" y=\"-96.8\" font-family=\"Helvetica,sans-Serif\" font-size=\"14.00\" fill=\"#000000\">value = 0.081</text>\n</g>\n<!-- 6&#45;&gt;8 -->\n<g id=\"edge7\" class=\"edge\">\n<title>6&#45;&gt;8</title>\n<path fill=\"none\" stroke=\"#000000\" d=\"M245.4029,-192.9465C251.5791,-184.1475 258.3038,-174.5672 264.739,-165.3993\"/>\n<polygon fill=\"#000000\" stroke=\"#000000\" points=\"267.6629,-167.3258 270.5434,-157.13 261.9334,-163.3041 267.6629,-167.3258\"/>\n</g>\n<!-- 9 -->\n<g id=\"node9\" class=\"node\">\n<title>9</title>\n<path fill=\"#e58139\" stroke=\"#000000\" d=\"M271.5,-53C271.5,-53 175.5,-53 175.5,-53 169.5,-53 163.5,-47 163.5,-41 163.5,-41 163.5,-12 163.5,-12 163.5,-6 169.5,0 175.5,0 175.5,0 271.5,0 271.5,0 277.5,0 283.5,-6 283.5,-12 283.5,-12 283.5,-41 283.5,-41 283.5,-47 277.5,-53 271.5,-53\"/>\n<text text-anchor=\"middle\" x=\"223.5\" y=\"-37.8\" font-family=\"Helvetica,sans-Serif\" font-size=\"14.00\" fill=\"#000000\">mse = 1.0</text>\n<text text-anchor=\"middle\" x=\"223.5\" y=\"-22.8\" font-family=\"Helvetica,sans-Serif\" font-size=\"14.00\" fill=\"#000000\">samples = 2265</text>\n<text text-anchor=\"middle\" x=\"223.5\" y=\"-7.8\" font-family=\"Helvetica,sans-Serif\" font-size=\"14.00\" fill=\"#000000\">value = 0.108</text>\n</g>\n<!-- 8&#45;&gt;9 -->\n<g id=\"edge8\" class=\"edge\">\n<title>8&#45;&gt;9</title>\n<path fill=\"none\" stroke=\"#000000\" d=\"M269.4681,-88.9777C262.9329,-80.0954 255.878,-70.5067 249.3036,-61.5711\"/>\n<polygon fill=\"#000000\" stroke=\"#000000\" points=\"251.9257,-59.229 243.1802,-53.2485 246.2874,-63.3775 251.9257,-59.229\"/>\n</g>\n<!-- 10 -->\n<g id=\"node10\" class=\"node\">\n<title>10</title>\n<path fill=\"#eda572\" stroke=\"#000000\" d=\"M417.5,-53C417.5,-53 313.5,-53 313.5,-53 307.5,-53 301.5,-47 301.5,-41 301.5,-41 301.5,-12 301.5,-12 301.5,-6 307.5,0 313.5,0 313.5,0 417.5,0 417.5,0 423.5,0 429.5,-6 429.5,-12 429.5,-12 429.5,-41 429.5,-41 429.5,-47 423.5,-53 417.5,-53\"/>\n<text text-anchor=\"middle\" x=\"365.5\" y=\"-37.8\" font-family=\"Helvetica,sans-Serif\" font-size=\"14.00\" fill=\"#000000\">mse = 1.0</text>\n<text text-anchor=\"middle\" x=\"365.5\" y=\"-22.8\" font-family=\"Helvetica,sans-Serif\" font-size=\"14.00\" fill=\"#000000\">samples = 16365</text>\n<text text-anchor=\"middle\" x=\"365.5\" y=\"-7.8\" font-family=\"Helvetica,sans-Serif\" font-size=\"14.00\" fill=\"#000000\">value = 0.077</text>\n</g>\n<!-- 8&#45;&gt;10 -->\n<g id=\"edge9\" class=\"edge\">\n<title>8&#45;&gt;10</title>\n<path fill=\"none\" stroke=\"#000000\" d=\"M319.5319,-88.9777C326.0671,-80.0954 333.122,-70.5067 339.6964,-61.5711\"/>\n<polygon fill=\"#000000\" stroke=\"#000000\" points=\"342.7126,-63.3775 345.8198,-53.2485 337.0743,-59.229 342.7126,-63.3775\"/>\n</g>\n</g>\n</svg>\n"
          },
          "metadata": {
            "tags": []
          },
          "execution_count": 4
        }
      ]
    }
  ]
}