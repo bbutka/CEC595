{
  "nbformat": 4,
  "nbformat_minor": 0,
  "metadata": {
    "colab": {
      "name": "L01_HW_Sports.ipynb",
      "provenance": [],
      "collapsed_sections": [],
      "authorship_tag": "ABX9TyOP2/1YdVkkXKNQfUSqtDME",
      "include_colab_link": true
    },
    "kernelspec": {
      "name": "python3",
      "display_name": "Python 3"
    }
  },
  "cells": [
    {
      "cell_type": "markdown",
      "metadata": {
        "id": "view-in-github",
        "colab_type": "text"
      },
      "source": [
        "<a href=\"https://colab.research.google.com/github/bbutka/CEC595/blob/main/L01_HW_Sports.ipynb\" target=\"_parent\"><img src=\"https://colab.research.google.com/assets/colab-badge.svg\" alt=\"Open In Colab\"/></a>"
      ]
    },
    {
      "cell_type": "code",
      "metadata": {
        "id": "zmjLd81bZpP6"
      },
      "source": [
        "!wget --no-check-certificate 'https://docs.google.com/uc?export=download&id=1NiG1xNPg-gXQkx3zBYfzVVdX7X4gGbW5' -O ATL2018"
      ],
      "execution_count": null,
      "outputs": []
    },
    {
      "cell_type": "code",
      "metadata": {
        "id": "sliNrvCXjkxy"
      },
      "source": [
        "with open(\"ATL2018\", \"r\") as f:\r\n",
        "    data = f.readlines()\r\n",
        "feats = data[0]\r\n",
        "feats = feats.replace('\\t',',')\r\n",
        "feats = feats.split(\",\")\r\n",
        "feats =feats[1:len(feats)]"
      ],
      "execution_count": null,
      "outputs": []
    },
    {
      "cell_type": "code",
      "metadata": {
        "id": "df-5R9WDleNm"
      },
      "source": [
        "print(feats)"
      ],
      "execution_count": null,
      "outputs": []
    },
    {
      "cell_type": "code",
      "metadata": {
        "id": "FdZ58UumcCQ_"
      },
      "source": [
        "dat = []\t\t\t\t\r\n",
        "labs = []\t\t\t\r\n",
        "for i in range(1,len(data)):\t\r\n",
        "     line = data[i]\t\t\r\n",
        "     line = line.replace('\\n','')\t\t\r\n",
        "     line = line.replace('\\t',',')\t\t\r\n",
        "     csvline = line.split(\",\")\t\t\r\n",
        "     labs = labs + [int(csvline[0])]\r\n",
        "     dat = dat + [csvline[1:(len(csvline))]]\t\t"
      ],
      "execution_count": null,
      "outputs": []
    },
    {
      "cell_type": "code",
      "metadata": {
        "id": "2tjadVuRlrxB"
      },
      "source": [
        "print(labs)"
      ],
      "execution_count": null,
      "outputs": []
    },
    {
      "cell_type": "code",
      "metadata": {
        "id": "xZOZjTj7cnTc"
      },
      "source": [
        "print(dat)\r\n"
      ],
      "execution_count": null,
      "outputs": []
    },
    {
      "cell_type": "code",
      "metadata": {
        "id": "IO5LLZIYdFHO"
      },
      "source": [
        "from sklearn import tree\r\n",
        "import graphviz "
      ],
      "execution_count": null,
      "outputs": []
    },
    {
      "cell_type": "code",
      "metadata": {
        "id": "t09kHo8EdOus"
      },
      "source": [
        "clf = tree.DecisionTreeClassifier(max_leaf_nodes = 2)\t\r\n",
        "clf = clf.fit(dat, labs)\t\t"
      ],
      "execution_count": null,
      "outputs": []
    },
    {
      "cell_type": "code",
      "metadata": {
        "id": "mn05b7ohkhgR"
      },
      "source": [
        "correct = 0\t\t\t\t\t\t\r\n",
        "for i in range(len(dat)):\t\r\n",
        "    if clf.predict([dat[i]]) == labs[i]: correct = correct + 1\r\n",
        "100.0* correct / len(dat)"
      ],
      "execution_count": null,
      "outputs": []
    },
    {
      "cell_type": "code",
      "metadata": {
        "id": "mJvG_uHmkmjg"
      },
      "source": [
        "dot_data = tree.export_graphviz(clf, feature_names=feats,\r\n",
        "                      filled=True, rounded=True) \r\n",
        "graph = graphviz.Source(dot_data)\t\r\n",
        "graph\t"
      ],
      "execution_count": null,
      "outputs": []
    },
    {
      "cell_type": "code",
      "metadata": {
        "id": "o9pWAbxKrQhN"
      },
      "source": [
        "!wget --no-check-certificate 'https://docs.google.com/uc?export=download&id=1oA0KxWqcEeiV-jUVBexok7UwJyni7f30' -O ATL2019"
      ],
      "execution_count": null,
      "outputs": []
    }
  ]
}