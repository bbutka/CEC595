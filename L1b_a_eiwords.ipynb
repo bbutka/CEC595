{
  "nbformat": 4,
  "nbformat_minor": 0,
  "metadata": {
    "kernelspec": {
      "display_name": "Python 3",
      "language": "python",
      "name": "python3"
    },
    "language_info": {
      "codemirror_mode": {
        "name": "ipython",
        "version": 3
      },
      "file_extension": ".py",
      "mimetype": "text/x-python",
      "name": "python",
      "nbconvert_exporter": "python",
      "pygments_lexer": "ipython3",
      "version": "3.6.8"
    },
    "colab": {
      "name": "L1b_a_eiwords.ipynb",
      "provenance": [],
      "collapsed_sections": [],
      "include_colab_link": true
    }
  },
  "cells": [
    {
      "cell_type": "markdown",
      "metadata": {
        "id": "view-in-github",
        "colab_type": "text"
      },
      "source": [
        "<a href=\"https://colab.research.google.com/github/bbutka/CEC595/blob/main/L1b_a_eiwords.ipynb\" target=\"_parent\"><img src=\"https://colab.research.google.com/assets/colab-badge.svg\" alt=\"Open In Colab\"/></a>"
      ]
    },
    {
      "cell_type": "markdown",
      "metadata": {
        "id": "OfX_Bcl9zfVS"
      },
      "source": [
        "In this notebook we train a decison tree to classify words with `ie` from words with the letters `ei` with scikit-learn\n",
        "\n",
        "We'll then visualize it with graphviz"
      ]
    },
    {
      "cell_type": "code",
      "metadata": {
        "id": "QXaPxlM2KRrk"
      },
      "source": [
        "from sklearn import tree\n",
        "import graphviz "
      ],
      "execution_count": 1,
      "outputs": []
    },
    {
      "cell_type": "markdown",
      "metadata": {
        "id": "qFqUdojlKQi5"
      },
      "source": [
        "Below we download the data"
      ]
    },
    {
      "cell_type": "code",
      "metadata": {
        "id": "smcZ4HcApw5e",
        "colab": {
          "base_uri": "https://localhost:8080/"
        },
        "outputId": "c15137b1-eeea-4ce3-f03e-bb0fa3f50a2b"
      },
      "source": [
        "!wget https://raw.githubusercontent.com/bbutka/CEC595/main/data/ei.txt\n",
        "!wget https://raw.githubusercontent.com/bbutka/CEC595/main/data/ie.txt"
      ],
      "execution_count": 5,
      "outputs": [
        {
          "output_type": "stream",
          "text": [
            "--2021-01-09 18:53:56--  https://raw.githubusercontent.com/bbutka/CEC595/main/data/ei.txt\n",
            "Resolving raw.githubusercontent.com (raw.githubusercontent.com)... 151.101.0.133, 151.101.64.133, 151.101.128.133, ...\n",
            "Connecting to raw.githubusercontent.com (raw.githubusercontent.com)|151.101.0.133|:443... connected.\n",
            "HTTP request sent, awaiting response... 200 OK\n",
            "Length: 2470 (2.4K) [text/plain]\n",
            "Saving to: ‘ei.txt.1’\n",
            "\n",
            "\rei.txt.1              0%[                    ]       0  --.-KB/s               \rei.txt.1            100%[===================>]   2.41K  --.-KB/s    in 0s      \n",
            "\n",
            "2021-01-09 18:53:56 (58.9 MB/s) - ‘ei.txt.1’ saved [2470/2470]\n",
            "\n",
            "--2021-01-09 18:53:56--  https://raw.githubusercontent.com/bbutka/CEC595/main/data/ie.txt\n",
            "Resolving raw.githubusercontent.com (raw.githubusercontent.com)... 151.101.0.133, 151.101.64.133, 151.101.128.133, ...\n",
            "Connecting to raw.githubusercontent.com (raw.githubusercontent.com)|151.101.0.133|:443... connected.\n",
            "HTTP request sent, awaiting response... 200 OK\n",
            "Length: 6272 (6.1K) [text/plain]\n",
            "Saving to: ‘ie.txt’\n",
            "\n",
            "ie.txt              100%[===================>]   6.12K  --.-KB/s    in 0s      \n",
            "\n",
            "2021-01-09 18:53:56 (75.4 MB/s) - ‘ie.txt’ saved [6272/6272]\n",
            "\n"
          ],
          "name": "stdout"
        }
      ]
    },
    {
      "cell_type": "markdown",
      "metadata": {
        "id": "1Gh1NWoL9Xk7"
      },
      "source": [
        "Here we define some auxilliary functions:\n",
        "\n",
        "- `features` processes the words and extracts information about them, such as the number of sylables and pronounciation\n",
        "- `featurenames` describes the features listed in `features`"
      ]
    },
    {
      "cell_type": "code",
      "metadata": {
        "id": "3NSD5QENkHrn"
      },
      "source": [
        "# Define some auxillary functions\n",
        "\n",
        "def features(wordline):\n",
        "    vector = []\n",
        "    if \"ie\" in wordline[0]: loc = wordline[0].index(\"ie\")\n",
        "    else: loc = wordline[0].index(\"ei\")\n",
        "    # pronounced as one syllable\n",
        "    vector = vector + [wordline[1][loc] == '-' or wordline[1][loc+1] == '-']\n",
        "    # silent\n",
        "    vector = vector + [wordline[1][loc] == '-' and wordline[1][loc+1] == '-']\n",
        "    # two syllables\n",
        "    vector = vector + [wordline[1][loc] != '-' and wordline[1][loc+1] != '-']\n",
        "    # pronunciation\n",
        "#    for pro in [\"--\", \"-I\", \"A-\", \"E-\", \"I-\", \"e-\", \"ei\", \"i-\", \"iA\", \"iI\", \"ix\", \"x-\", \"-E\",\n",
        "#                \"-a\", \"-e\", \"-x\", \"-y\", \"AE\", \"Ai\", \"Ax\", \"Ix\", \"Y-\", \"iE\", \"ii\", \"y-\", \"yE\",\n",
        "#                \"yI\", \"ye\", \"yx\"]:\n",
        "    # two syllable pronunciation\n",
        "    for pro in [\"ei\", \"iA\", \"iI\", \"ix\", \"AE\", \"Ai\", \"Ax\", \"Ix\", \"iE\", \"ii\", \"yE\", \"yI\", \"ye\", \"yx\"]:\n",
        "        vector = vector + [wordline[1][loc:(loc+2)] == pro]\n",
        "    # two syllable pronunciation\n",
        "    for pro in [\"I\", \"A\", \"E\", \"e\", \"i\", \"x\", \"a\", \"y\", \"Y\"]:\n",
        "        vector = vector + [wordline[1][loc:(loc+2)] == pro+\"-\" or wordline[1][loc:(loc+2)] == \"-\"+pro]\n",
        "    for let in \"abcdefghijklmnopqrstuvwxyz\":\n",
        "    # immediate preceeding, before\n",
        "        if loc > 0: vector = vector + [wordline[0][loc-1] == let]\n",
        "        else: vector = vector + [False]\n",
        "        vector = vector + [let in wordline[0][0:loc]]\n",
        "        # immediate following, after\n",
        "        if loc < len(wordline[0])-2: vector = vector + [wordline[0][loc+2] == let]\n",
        "        else: vector = vector + [False]\n",
        "        vector = vector + [let in wordline[0][(loc+2):]]\n",
        "        # in word at all\n",
        "        vector = vector + [let in wordline[0][(loc+2):]]\n",
        "    return(vector)\n",
        "\n",
        "def featurenames():\n",
        "    vector = []\n",
        "    # pronounced as one syllable\n",
        "    vector = vector + [\"one syllable?\", \"silent?\", \"two syllables?\"]\n",
        "    # pronunciation\n",
        "    for pro in [\"ei\", \"iA\", \"iI\", \"ix\", \"AE\", \"Ai\", \"Ax\", \"Ix\", \"iE\", \"ii\", \"yE\", \"yI\", \"ye\", \"yx\"]:\n",
        "        vector = vector + [\"sounds like \" + pro + \"?\"]\n",
        "    # two syllable pronunciation\n",
        "    for pro in [\"I\", \"A\", \"E\", \"e\", \"i\", \"x\", \"a\", \"y\", \"Y\"]:\n",
        "        vector = vector + [\"sounds like \" + pro + \"?\"]\n",
        "    for let in \"abcdefghijklmnopqrstuvwxyz\":\n",
        "        # immediate preceeding, before\n",
        "        vector = vector + [\"immediately after \" + let + \"?\", \"after \" + let + \"?\"]\n",
        "        # immediate following, after\n",
        "        vector = vector + [\"immediately before \" + let + \"?\", \"before \" + let + \"?\"]\n",
        "        # in word at all\n",
        "        vector = vector + [\"word contains \" + let + \"?\"]\n",
        "    return(vector)"
      ],
      "execution_count": 6,
      "outputs": []
    },
    {
      "cell_type": "markdown",
      "metadata": {
        "id": "HsTXtAYyESgf"
      },
      "source": [
        "We'll now combine these functions to load the data into multiple lists:\n",
        "\n",
        "- `dat` contains the information about each word, described in the `features` function\n",
        "- `labs` labels if the word uses `ie` or `ei`\n",
        "- `words` includes each actual word\n",
        "- `pros` describes the pronouciation of each word "
      ]
    },
    {
      "cell_type": "code",
      "metadata": {
        "id": "nj-ExcU5kHro"
      },
      "source": [
        "# Putting together the data set:\n",
        "\n",
        "dat = []\n",
        "labs = []\n",
        "words = []\n",
        "pros = []\n",
        "for file in [\"ie\", \"ei\"]:\n",
        " with open(file+\".txt\", \"r\") as f:\n",
        "   data = f.readlines()\n",
        "   for line in data:\n",
        "    wordline = line.split()\n",
        "    dat = dat + [features(wordline)]\n",
        "    labs = labs + [[\"ie\" in wordline[0]]]\n",
        "    words = words + [wordline[0]]\n",
        "    pros = pros + [wordline[1]]"
      ],
      "execution_count": 7,
      "outputs": []
    },
    {
      "cell_type": "markdown",
      "metadata": {
        "id": "6xHFhQ-FHtQ7"
      },
      "source": [
        "We can now train the decision tree classifer using 8 decision rules and calculate the number of words we get correct with this model"
      ]
    },
    {
      "cell_type": "code",
      "metadata": {
        "id": "257vwFobkHrq",
        "colab": {
          "base_uri": "https://localhost:8080/"
        },
        "outputId": "b2b28964-8f2c-45eb-c5f5-873cab4b7469"
      },
      "source": [
        "# Set up the learner and run it on the data, then compute the accuracy and print it\n",
        "clf = tree.DecisionTreeClassifier(max_leaf_nodes=8)\n",
        "clf = clf.fit(dat, labs)\n",
        "correct = 0\n",
        "for i in range(len(words)):\n",
        "    if clf.predict([features([words[i], pros[i]])]) == labs[i]: correct = correct + 1\n",
        "print(correct)"
      ],
      "execution_count": 8,
      "outputs": [
        {
          "output_type": "stream",
          "text": [
            "425\n"
          ],
          "name": "stdout"
        }
      ]
    },
    {
      "cell_type": "markdown",
      "metadata": {
        "id": "8YSMYXhtLngw"
      },
      "source": [
        "We can now extract the names of the features to use in the diagram of the decision tree and plot the diagram"
      ]
    },
    {
      "cell_type": "code",
      "metadata": {
        "id": "9kjYgCqckHrs",
        "colab": {
          "base_uri": "https://localhost:8080/",
          "height": 1000
        },
        "outputId": "e0eaf278-d559-4ad8-d560-18961f3d5618"
      },
      "source": [
        "feats = featurenames()\n",
        "\n",
        "# Draw the tree!\n",
        "\n",
        "\n",
        "# dot_data = tree.export_graphviz(clf, out_file=None) \n",
        "# graph = graphviz.Source(dot_data) \n",
        "# graph.render(\"iris\") \n",
        "dot_data = tree.export_graphviz(clf, out_file=None, \n",
        "                      feature_names=feats,  \n",
        "                      class_names=[\"ei\",\"ie\"],  \n",
        "                      filled=True, rounded=True,  \n",
        "                      special_characters=True)  \n",
        "graph = graphviz.Source(dot_data)  \n",
        "graph\n"
      ],
      "execution_count": 9,
      "outputs": [
        {
          "output_type": "execute_result",
          "data": {
            "text/plain": [
              "<graphviz.files.Source at 0x7ffae45392e8>"
            ],
            "image/svg+xml": "<?xml version=\"1.0\" encoding=\"UTF-8\" standalone=\"no\"?>\n<!DOCTYPE svg PUBLIC \"-//W3C//DTD SVG 1.1//EN\"\n \"http://www.w3.org/Graphics/SVG/1.1/DTD/svg11.dtd\">\n<!-- Generated by graphviz version 2.40.1 (20161225.0304)\n -->\n<!-- Title: Tree Pages: 1 -->\n<svg width=\"705pt\" height=\"790pt\"\n viewBox=\"0.00 0.00 704.50 790.00\" xmlns=\"http://www.w3.org/2000/svg\" xmlns:xlink=\"http://www.w3.org/1999/xlink\">\n<g id=\"graph0\" class=\"graph\" transform=\"scale(1 1) rotate(0) translate(4 786)\">\n<title>Tree</title>\n<polygon fill=\"#ffffff\" stroke=\"transparent\" points=\"-4,4 -4,-786 700.5,-786 700.5,4 -4,4\"/>\n<!-- 0 -->\n<g id=\"node1\" class=\"node\">\n<title>0</title>\n<path fill=\"#88c4ef\" stroke=\"#000000\" d=\"M632,-782C632,-782 510,-782 510,-782 504,-782 498,-776 498,-770 498,-770 498,-711 498,-711 498,-705 504,-699 510,-699 510,-699 632,-699 632,-699 638,-699 644,-705 644,-711 644,-711 644,-770 644,-770 644,-776 638,-782 632,-782\"/>\n<text text-anchor=\"start\" x=\"506\" y=\"-766.8\" font-family=\"Helvetica,sans-Serif\" font-size=\"14.00\" fill=\"#000000\">sounds like e? ≤ 0.5</text>\n<text text-anchor=\"start\" x=\"533\" y=\"-751.8\" font-family=\"Helvetica,sans-Serif\" font-size=\"14.00\" fill=\"#000000\">gini = 0.408</text>\n<text text-anchor=\"start\" x=\"523\" y=\"-736.8\" font-family=\"Helvetica,sans-Serif\" font-size=\"14.00\" fill=\"#000000\">samples = 500</text>\n<text text-anchor=\"start\" x=\"513\" y=\"-721.8\" font-family=\"Helvetica,sans-Serif\" font-size=\"14.00\" fill=\"#000000\">value = [143, 357]</text>\n<text text-anchor=\"start\" x=\"540.5\" y=\"-706.8\" font-family=\"Helvetica,sans-Serif\" font-size=\"14.00\" fill=\"#000000\">class = ie</text>\n</g>\n<!-- 1 -->\n<g id=\"node2\" class=\"node\">\n<title>1</title>\n<path fill=\"#70b8ec\" stroke=\"#000000\" d=\"M559,-663C559,-663 439,-663 439,-663 433,-663 427,-657 427,-651 427,-651 427,-592 427,-592 427,-586 433,-580 439,-580 439,-580 559,-580 559,-580 565,-580 571,-586 571,-592 571,-592 571,-651 571,-651 571,-657 565,-663 559,-663\"/>\n<text text-anchor=\"start\" x=\"435\" y=\"-647.8\" font-family=\"Helvetica,sans-Serif\" font-size=\"14.00\" fill=\"#000000\">sounds like iI? ≤ 0.5</text>\n<text text-anchor=\"start\" x=\"465.5\" y=\"-632.8\" font-family=\"Helvetica,sans-Serif\" font-size=\"14.00\" fill=\"#000000\">gini = 0.34</text>\n<text text-anchor=\"start\" x=\"451\" y=\"-617.8\" font-family=\"Helvetica,sans-Serif\" font-size=\"14.00\" fill=\"#000000\">samples = 455</text>\n<text text-anchor=\"start\" x=\"445\" y=\"-602.8\" font-family=\"Helvetica,sans-Serif\" font-size=\"14.00\" fill=\"#000000\">value = [99, 356]</text>\n<text text-anchor=\"start\" x=\"468.5\" y=\"-587.8\" font-family=\"Helvetica,sans-Serif\" font-size=\"14.00\" fill=\"#000000\">class = ie</text>\n</g>\n<!-- 0&#45;&gt;1 -->\n<g id=\"edge1\" class=\"edge\">\n<title>0&#45;&gt;1</title>\n<path fill=\"none\" stroke=\"#000000\" d=\"M545.8179,-698.8796C540.5867,-690.2335 535.0195,-681.0322 529.6177,-672.1042\"/>\n<polygon fill=\"#000000\" stroke=\"#000000\" points=\"532.4608,-670.0421 524.2896,-663.2981 526.4717,-673.6658 532.4608,-670.0421\"/>\n<text text-anchor=\"middle\" x=\"518.316\" y=\"-683.8739\" font-family=\"Helvetica,sans-Serif\" font-size=\"14.00\" fill=\"#000000\">True</text>\n</g>\n<!-- 2 -->\n<g id=\"node15\" class=\"node\">\n<title>2</title>\n<path fill=\"#e6843d\" stroke=\"#000000\" d=\"M684.5,-655.5C684.5,-655.5 601.5,-655.5 601.5,-655.5 595.5,-655.5 589.5,-649.5 589.5,-643.5 589.5,-643.5 589.5,-599.5 589.5,-599.5 589.5,-593.5 595.5,-587.5 601.5,-587.5 601.5,-587.5 684.5,-587.5 684.5,-587.5 690.5,-587.5 696.5,-593.5 696.5,-599.5 696.5,-599.5 696.5,-643.5 696.5,-643.5 696.5,-649.5 690.5,-655.5 684.5,-655.5\"/>\n<text text-anchor=\"start\" x=\"605\" y=\"-640.3\" font-family=\"Helvetica,sans-Serif\" font-size=\"14.00\" fill=\"#000000\">gini = 0.043</text>\n<text text-anchor=\"start\" x=\"599\" y=\"-625.3\" font-family=\"Helvetica,sans-Serif\" font-size=\"14.00\" fill=\"#000000\">samples = 45</text>\n<text text-anchor=\"start\" x=\"597.5\" y=\"-610.3\" font-family=\"Helvetica,sans-Serif\" font-size=\"14.00\" fill=\"#000000\">value = [44, 1]</text>\n<text text-anchor=\"start\" x=\"612.5\" y=\"-595.3\" font-family=\"Helvetica,sans-Serif\" font-size=\"14.00\" fill=\"#000000\">class = ei</text>\n</g>\n<!-- 0&#45;&gt;2 -->\n<g id=\"edge14\" class=\"edge\">\n<title>0&#45;&gt;2</title>\n<path fill=\"none\" stroke=\"#000000\" d=\"M596.1821,-698.8796C602.9017,-687.7735 610.1757,-675.7513 616.9414,-664.5691\"/>\n<polygon fill=\"#000000\" stroke=\"#000000\" points=\"620.0559,-666.1826 622.238,-655.8149 614.0668,-662.5589 620.0559,-666.1826\"/>\n<text text-anchor=\"middle\" x=\"628.2117\" y=\"-676.3908\" font-family=\"Helvetica,sans-Serif\" font-size=\"14.00\" fill=\"#000000\">False</text>\n</g>\n<!-- 3 -->\n<g id=\"node3\" class=\"node\">\n<title>3</title>\n<path fill=\"#68b4eb\" stroke=\"#000000\" d=\"M492,-544C492,-544 354,-544 354,-544 348,-544 342,-538 342,-532 342,-532 342,-473 342,-473 342,-467 348,-461 354,-461 354,-461 492,-461 492,-461 498,-461 504,-467 504,-473 504,-473 504,-532 504,-532 504,-538 498,-544 492,-544\"/>\n<text text-anchor=\"start\" x=\"350\" y=\"-528.8\" font-family=\"Helvetica,sans-Serif\" font-size=\"14.00\" fill=\"#000000\">word contains g? ≤ 0.5</text>\n<text text-anchor=\"start\" x=\"385\" y=\"-513.8\" font-family=\"Helvetica,sans-Serif\" font-size=\"14.00\" fill=\"#000000\">gini = 0.309</text>\n<text text-anchor=\"start\" x=\"375\" y=\"-498.8\" font-family=\"Helvetica,sans-Serif\" font-size=\"14.00\" fill=\"#000000\">samples = 440</text>\n<text text-anchor=\"start\" x=\"369\" y=\"-483.8\" font-family=\"Helvetica,sans-Serif\" font-size=\"14.00\" fill=\"#000000\">value = [84, 356]</text>\n<text text-anchor=\"start\" x=\"392.5\" y=\"-468.8\" font-family=\"Helvetica,sans-Serif\" font-size=\"14.00\" fill=\"#000000\">class = ie</text>\n</g>\n<!-- 1&#45;&gt;3 -->\n<g id=\"edge2\" class=\"edge\">\n<title>1&#45;&gt;3</title>\n<path fill=\"none\" stroke=\"#000000\" d=\"M472.4189,-579.8796C466.8395,-571.1434 460.8981,-561.8404 455.1405,-552.8253\"/>\n<polygon fill=\"#000000\" stroke=\"#000000\" points=\"458.0269,-550.8421 449.6946,-544.2981 452.1274,-554.6098 458.0269,-550.8421\"/>\n</g>\n<!-- 4 -->\n<g id=\"node14\" class=\"node\">\n<title>4</title>\n<path fill=\"#e58139\" stroke=\"#000000\" d=\"M617.5,-536.5C617.5,-536.5 534.5,-536.5 534.5,-536.5 528.5,-536.5 522.5,-530.5 522.5,-524.5 522.5,-524.5 522.5,-480.5 522.5,-480.5 522.5,-474.5 528.5,-468.5 534.5,-468.5 534.5,-468.5 617.5,-468.5 617.5,-468.5 623.5,-468.5 629.5,-474.5 629.5,-480.5 629.5,-480.5 629.5,-524.5 629.5,-524.5 629.5,-530.5 623.5,-536.5 617.5,-536.5\"/>\n<text text-anchor=\"start\" x=\"546.5\" y=\"-521.3\" font-family=\"Helvetica,sans-Serif\" font-size=\"14.00\" fill=\"#000000\">gini = 0.0</text>\n<text text-anchor=\"start\" x=\"532\" y=\"-506.3\" font-family=\"Helvetica,sans-Serif\" font-size=\"14.00\" fill=\"#000000\">samples = 15</text>\n<text text-anchor=\"start\" x=\"530.5\" y=\"-491.3\" font-family=\"Helvetica,sans-Serif\" font-size=\"14.00\" fill=\"#000000\">value = [15, 0]</text>\n<text text-anchor=\"start\" x=\"545.5\" y=\"-476.3\" font-family=\"Helvetica,sans-Serif\" font-size=\"14.00\" fill=\"#000000\">class = ei</text>\n</g>\n<!-- 1&#45;&gt;4 -->\n<g id=\"edge13\" class=\"edge\">\n<title>1&#45;&gt;4</title>\n<path fill=\"none\" stroke=\"#000000\" d=\"M525.9309,-579.8796C533.1883,-568.6636 541.0503,-556.5131 548.3465,-545.2372\"/>\n<polygon fill=\"#000000\" stroke=\"#000000\" points=\"551.3022,-547.112 553.7962,-536.8149 545.4252,-543.3093 551.3022,-547.112\"/>\n</g>\n<!-- 5 -->\n<g id=\"node4\" class=\"node\">\n<title>5</title>\n<path fill=\"#63b2eb\" stroke=\"#000000\" d=\"M417,-425C417,-425 275,-425 275,-425 269,-425 263,-419 263,-413 263,-413 263,-354 263,-354 263,-348 269,-342 275,-342 275,-342 417,-342 417,-342 423,-342 429,-348 429,-354 429,-354 429,-413 429,-413 429,-419 423,-425 417,-425\"/>\n<text text-anchor=\"start\" x=\"271\" y=\"-409.8\" font-family=\"Helvetica,sans-Serif\" font-size=\"14.00\" fill=\"#000000\">word contains m? ≤ 0.5</text>\n<text text-anchor=\"start\" x=\"308\" y=\"-394.8\" font-family=\"Helvetica,sans-Serif\" font-size=\"14.00\" fill=\"#000000\">gini = 0.289</text>\n<text text-anchor=\"start\" x=\"298\" y=\"-379.8\" font-family=\"Helvetica,sans-Serif\" font-size=\"14.00\" fill=\"#000000\">samples = 423</text>\n<text text-anchor=\"start\" x=\"292\" y=\"-364.8\" font-family=\"Helvetica,sans-Serif\" font-size=\"14.00\" fill=\"#000000\">value = [74, 349]</text>\n<text text-anchor=\"start\" x=\"315.5\" y=\"-349.8\" font-family=\"Helvetica,sans-Serif\" font-size=\"14.00\" fill=\"#000000\">class = ie</text>\n</g>\n<!-- 3&#45;&gt;5 -->\n<g id=\"edge3\" class=\"edge\">\n<title>3&#45;&gt;5</title>\n<path fill=\"none\" stroke=\"#000000\" d=\"M396.0691,-460.8796C390.4163,-452.1434 384.3967,-442.8404 378.5634,-433.8253\"/>\n<polygon fill=\"#000000\" stroke=\"#000000\" points=\"381.4169,-431.7924 373.0458,-425.2981 375.5399,-435.5952 381.4169,-431.7924\"/>\n</g>\n<!-- 6 -->\n<g id=\"node13\" class=\"node\">\n<title>6</title>\n<path fill=\"#f7d9c4\" stroke=\"#000000\" d=\"M542.5,-417.5C542.5,-417.5 459.5,-417.5 459.5,-417.5 453.5,-417.5 447.5,-411.5 447.5,-405.5 447.5,-405.5 447.5,-361.5 447.5,-361.5 447.5,-355.5 453.5,-349.5 459.5,-349.5 459.5,-349.5 542.5,-349.5 542.5,-349.5 548.5,-349.5 554.5,-355.5 554.5,-361.5 554.5,-361.5 554.5,-405.5 554.5,-405.5 554.5,-411.5 548.5,-417.5 542.5,-417.5\"/>\n<text text-anchor=\"start\" x=\"463\" y=\"-402.3\" font-family=\"Helvetica,sans-Serif\" font-size=\"14.00\" fill=\"#000000\">gini = 0.484</text>\n<text text-anchor=\"start\" x=\"457\" y=\"-387.3\" font-family=\"Helvetica,sans-Serif\" font-size=\"14.00\" fill=\"#000000\">samples = 17</text>\n<text text-anchor=\"start\" x=\"455.5\" y=\"-372.3\" font-family=\"Helvetica,sans-Serif\" font-size=\"14.00\" fill=\"#000000\">value = [10, 7]</text>\n<text text-anchor=\"start\" x=\"470.5\" y=\"-357.3\" font-family=\"Helvetica,sans-Serif\" font-size=\"14.00\" fill=\"#000000\">class = ei</text>\n</g>\n<!-- 3&#45;&gt;6 -->\n<g id=\"edge12\" class=\"edge\">\n<title>3&#45;&gt;6</title>\n<path fill=\"none\" stroke=\"#000000\" d=\"M450.2806,-460.8796C457.6323,-449.6636 465.5964,-437.5131 472.9874,-426.2372\"/>\n<polygon fill=\"#000000\" stroke=\"#000000\" points=\"475.9531,-428.0972 478.5079,-417.8149 470.0986,-424.2598 475.9531,-428.0972\"/>\n</g>\n<!-- 7 -->\n<g id=\"node5\" class=\"node\">\n<title>7</title>\n<path fill=\"#60b0ea\" stroke=\"#000000\" d=\"M335.5,-306C335.5,-306 212.5,-306 212.5,-306 206.5,-306 200.5,-300 200.5,-294 200.5,-294 200.5,-235 200.5,-235 200.5,-229 206.5,-223 212.5,-223 212.5,-223 335.5,-223 335.5,-223 341.5,-223 347.5,-229 347.5,-235 347.5,-235 347.5,-294 347.5,-294 347.5,-300 341.5,-306 335.5,-306\"/>\n<text text-anchor=\"start\" x=\"208.5\" y=\"-290.8\" font-family=\"Helvetica,sans-Serif\" font-size=\"14.00\" fill=\"#000000\">sounds like E? ≤ 0.5</text>\n<text text-anchor=\"start\" x=\"236\" y=\"-275.8\" font-family=\"Helvetica,sans-Serif\" font-size=\"14.00\" fill=\"#000000\">gini = 0.275</text>\n<text text-anchor=\"start\" x=\"226\" y=\"-260.8\" font-family=\"Helvetica,sans-Serif\" font-size=\"14.00\" fill=\"#000000\">samples = 413</text>\n<text text-anchor=\"start\" x=\"220\" y=\"-245.8\" font-family=\"Helvetica,sans-Serif\" font-size=\"14.00\" fill=\"#000000\">value = [68, 345]</text>\n<text text-anchor=\"start\" x=\"243.5\" y=\"-230.8\" font-family=\"Helvetica,sans-Serif\" font-size=\"14.00\" fill=\"#000000\">class = ie</text>\n</g>\n<!-- 5&#45;&gt;7 -->\n<g id=\"edge4\" class=\"edge\">\n<title>5&#45;&gt;7</title>\n<path fill=\"none\" stroke=\"#000000\" d=\"M320.8179,-341.8796C315.5867,-333.2335 310.0195,-324.0322 304.6177,-315.1042\"/>\n<polygon fill=\"#000000\" stroke=\"#000000\" points=\"307.4608,-313.0421 299.2896,-306.2981 301.4717,-316.6658 307.4608,-313.0421\"/>\n</g>\n<!-- 8 -->\n<g id=\"node12\" class=\"node\">\n<title>8</title>\n<path fill=\"#f6d5bd\" stroke=\"#000000\" d=\"M458,-298.5C458,-298.5 378,-298.5 378,-298.5 372,-298.5 366,-292.5 366,-286.5 366,-286.5 366,-242.5 366,-242.5 366,-236.5 372,-230.5 378,-230.5 378,-230.5 458,-230.5 458,-230.5 464,-230.5 470,-236.5 470,-242.5 470,-242.5 470,-286.5 470,-286.5 470,-292.5 464,-298.5 458,-298.5\"/>\n<text text-anchor=\"start\" x=\"384.5\" y=\"-283.3\" font-family=\"Helvetica,sans-Serif\" font-size=\"14.00\" fill=\"#000000\">gini = 0.48</text>\n<text text-anchor=\"start\" x=\"374\" y=\"-268.3\" font-family=\"Helvetica,sans-Serif\" font-size=\"14.00\" fill=\"#000000\">samples = 10</text>\n<text text-anchor=\"start\" x=\"376.5\" y=\"-253.3\" font-family=\"Helvetica,sans-Serif\" font-size=\"14.00\" fill=\"#000000\">value = [6, 4]</text>\n<text text-anchor=\"start\" x=\"387.5\" y=\"-238.3\" font-family=\"Helvetica,sans-Serif\" font-size=\"14.00\" fill=\"#000000\">class = ei</text>\n</g>\n<!-- 5&#45;&gt;8 -->\n<g id=\"edge11\" class=\"edge\">\n<title>5&#45;&gt;8</title>\n<path fill=\"none\" stroke=\"#000000\" d=\"M371.1821,-341.8796C377.9017,-330.7735 385.1757,-318.7513 391.9414,-307.5691\"/>\n<polygon fill=\"#000000\" stroke=\"#000000\" points=\"395.0559,-309.1826 397.238,-298.8149 389.0668,-305.5589 395.0559,-309.1826\"/>\n</g>\n<!-- 9 -->\n<g id=\"node6\" class=\"node\">\n<title>9</title>\n<path fill=\"#5dafea\" stroke=\"#000000\" d=\"M272,-187C272,-187 106,-187 106,-187 100,-187 94,-181 94,-175 94,-175 94,-116 94,-116 94,-110 100,-104 106,-104 106,-104 272,-104 272,-104 278,-104 284,-110 284,-116 284,-116 284,-175 284,-175 284,-181 278,-187 272,-187\"/>\n<text text-anchor=\"start\" x=\"102\" y=\"-171.8\" font-family=\"Helvetica,sans-Serif\" font-size=\"14.00\" fill=\"#000000\">immediately before t? ≤ 0.5</text>\n<text text-anchor=\"start\" x=\"151\" y=\"-156.8\" font-family=\"Helvetica,sans-Serif\" font-size=\"14.00\" fill=\"#000000\">gini = 0.263</text>\n<text text-anchor=\"start\" x=\"141\" y=\"-141.8\" font-family=\"Helvetica,sans-Serif\" font-size=\"14.00\" fill=\"#000000\">samples = 405</text>\n<text text-anchor=\"start\" x=\"135\" y=\"-126.8\" font-family=\"Helvetica,sans-Serif\" font-size=\"14.00\" fill=\"#000000\">value = [63, 342]</text>\n<text text-anchor=\"start\" x=\"158.5\" y=\"-111.8\" font-family=\"Helvetica,sans-Serif\" font-size=\"14.00\" fill=\"#000000\">class = ie</text>\n</g>\n<!-- 7&#45;&gt;9 -->\n<g id=\"edge5\" class=\"edge\">\n<title>7&#45;&gt;9</title>\n<path fill=\"none\" stroke=\"#000000\" d=\"M244.2711,-222.8796C237.9667,-214.0534 231.249,-204.6485 224.7476,-195.5466\"/>\n<polygon fill=\"#000000\" stroke=\"#000000\" points=\"227.5163,-193.4011 218.8558,-187.2981 221.8201,-197.4698 227.5163,-193.4011\"/>\n</g>\n<!-- 10 -->\n<g id=\"node9\" class=\"node\">\n<title>10</title>\n<path fill=\"#f5cdb0\" stroke=\"#000000\" d=\"M403.5,-187C403.5,-187 314.5,-187 314.5,-187 308.5,-187 302.5,-181 302.5,-175 302.5,-175 302.5,-116 302.5,-116 302.5,-110 308.5,-104 314.5,-104 314.5,-104 403.5,-104 403.5,-104 409.5,-104 415.5,-110 415.5,-116 415.5,-116 415.5,-175 415.5,-175 415.5,-181 409.5,-187 403.5,-187\"/>\n<text text-anchor=\"start\" x=\"310.5\" y=\"-171.8\" font-family=\"Helvetica,sans-Serif\" font-size=\"14.00\" fill=\"#000000\">before d? ≤ 0.5</text>\n<text text-anchor=\"start\" x=\"321\" y=\"-156.8\" font-family=\"Helvetica,sans-Serif\" font-size=\"14.00\" fill=\"#000000\">gini = 0.469</text>\n<text text-anchor=\"start\" x=\"319.5\" y=\"-141.8\" font-family=\"Helvetica,sans-Serif\" font-size=\"14.00\" fill=\"#000000\">samples = 8</text>\n<text text-anchor=\"start\" x=\"317.5\" y=\"-126.8\" font-family=\"Helvetica,sans-Serif\" font-size=\"14.00\" fill=\"#000000\">value = [5, 3]</text>\n<text text-anchor=\"start\" x=\"328.5\" y=\"-111.8\" font-family=\"Helvetica,sans-Serif\" font-size=\"14.00\" fill=\"#000000\">class = ei</text>\n</g>\n<!-- 7&#45;&gt;10 -->\n<g id=\"edge8\" class=\"edge\">\n<title>7&#45;&gt;10</title>\n<path fill=\"none\" stroke=\"#000000\" d=\"M303.7289,-222.8796C310.0333,-214.0534 316.751,-204.6485 323.2524,-195.5466\"/>\n<polygon fill=\"#000000\" stroke=\"#000000\" points=\"326.1799,-197.4698 329.1442,-187.2981 320.4837,-193.4011 326.1799,-197.4698\"/>\n</g>\n<!-- 13 -->\n<g id=\"node7\" class=\"node\">\n<title>13</title>\n<path fill=\"#58ace9\" stroke=\"#000000\" d=\"M112,-68C112,-68 12,-68 12,-68 6,-68 0,-62 0,-56 0,-56 0,-12 0,-12 0,-6 6,0 12,0 12,0 112,0 112,0 118,0 124,-6 124,-12 124,-12 124,-56 124,-56 124,-62 118,-68 112,-68\"/>\n<text text-anchor=\"start\" x=\"24\" y=\"-52.8\" font-family=\"Helvetica,sans-Serif\" font-size=\"14.00\" fill=\"#000000\">gini = 0.234</text>\n<text text-anchor=\"start\" x=\"14\" y=\"-37.8\" font-family=\"Helvetica,sans-Serif\" font-size=\"14.00\" fill=\"#000000\">samples = 363</text>\n<text text-anchor=\"start\" x=\"8\" y=\"-22.8\" font-family=\"Helvetica,sans-Serif\" font-size=\"14.00\" fill=\"#000000\">value = [49, 314]</text>\n<text text-anchor=\"start\" x=\"31.5\" y=\"-7.8\" font-family=\"Helvetica,sans-Serif\" font-size=\"14.00\" fill=\"#000000\">class = ie</text>\n</g>\n<!-- 9&#45;&gt;13 -->\n<g id=\"edge6\" class=\"edge\">\n<title>9&#45;&gt;13</title>\n<path fill=\"none\" stroke=\"#000000\" d=\"M141.7099,-103.9815C130.9275,-94.5151 119.477,-84.462 108.7187,-75.0168\"/>\n<polygon fill=\"#000000\" stroke=\"#000000\" points=\"110.8507,-72.2311 101.0268,-68.2637 106.2324,-77.4915 110.8507,-72.2311\"/>\n</g>\n<!-- 14 -->\n<g id=\"node8\" class=\"node\">\n<title>14</title>\n<path fill=\"#9ccef2\" stroke=\"#000000\" d=\"M246,-68C246,-68 154,-68 154,-68 148,-68 142,-62 142,-56 142,-56 142,-12 142,-12 142,-6 148,0 154,0 154,0 246,0 246,0 252,0 258,-6 258,-12 258,-12 258,-56 258,-56 258,-62 252,-68 246,-68\"/>\n<text text-anchor=\"start\" x=\"162\" y=\"-52.8\" font-family=\"Helvetica,sans-Serif\" font-size=\"14.00\" fill=\"#000000\">gini = 0.444</text>\n<text text-anchor=\"start\" x=\"156\" y=\"-37.8\" font-family=\"Helvetica,sans-Serif\" font-size=\"14.00\" fill=\"#000000\">samples = 42</text>\n<text text-anchor=\"start\" x=\"150\" y=\"-22.8\" font-family=\"Helvetica,sans-Serif\" font-size=\"14.00\" fill=\"#000000\">value = [14, 28]</text>\n<text text-anchor=\"start\" x=\"169.5\" y=\"-7.8\" font-family=\"Helvetica,sans-Serif\" font-size=\"14.00\" fill=\"#000000\">class = ie</text>\n</g>\n<!-- 9&#45;&gt;14 -->\n<g id=\"edge7\" class=\"edge\">\n<title>9&#45;&gt;14</title>\n<path fill=\"none\" stroke=\"#000000\" d=\"M193.096,-103.9815C193.9211,-95.618 194.7914,-86.7965 195.6256,-78.3409\"/>\n<polygon fill=\"#000000\" stroke=\"#000000\" points=\"199.1209,-78.559 196.6197,-68.2637 192.1548,-77.8717 199.1209,-78.559\"/>\n</g>\n<!-- 11 -->\n<g id=\"node10\" class=\"node\">\n<title>11</title>\n<path fill=\"#e58139\" stroke=\"#000000\" d=\"M385.5,-68C385.5,-68 310.5,-68 310.5,-68 304.5,-68 298.5,-62 298.5,-56 298.5,-56 298.5,-12 298.5,-12 298.5,-6 304.5,0 310.5,0 310.5,0 385.5,0 385.5,0 391.5,0 397.5,-6 397.5,-12 397.5,-12 397.5,-56 397.5,-56 397.5,-62 391.5,-68 385.5,-68\"/>\n<text text-anchor=\"start\" x=\"318.5\" y=\"-52.8\" font-family=\"Helvetica,sans-Serif\" font-size=\"14.00\" fill=\"#000000\">gini = 0.0</text>\n<text text-anchor=\"start\" x=\"308.5\" y=\"-37.8\" font-family=\"Helvetica,sans-Serif\" font-size=\"14.00\" fill=\"#000000\">samples = 5</text>\n<text text-anchor=\"start\" x=\"306.5\" y=\"-22.8\" font-family=\"Helvetica,sans-Serif\" font-size=\"14.00\" fill=\"#000000\">value = [5, 0]</text>\n<text text-anchor=\"start\" x=\"317.5\" y=\"-7.8\" font-family=\"Helvetica,sans-Serif\" font-size=\"14.00\" fill=\"#000000\">class = ei</text>\n</g>\n<!-- 10&#45;&gt;11 -->\n<g id=\"edge9\" class=\"edge\">\n<title>10&#45;&gt;11</title>\n<path fill=\"none\" stroke=\"#000000\" d=\"M354.904,-103.9815C354.0789,-95.618 353.2086,-86.7965 352.3744,-78.3409\"/>\n<polygon fill=\"#000000\" stroke=\"#000000\" points=\"355.8452,-77.8717 351.3803,-68.2637 348.8791,-78.559 355.8452,-77.8717\"/>\n</g>\n<!-- 12 -->\n<g id=\"node11\" class=\"node\">\n<title>12</title>\n<path fill=\"#399de5\" stroke=\"#000000\" d=\"M502.5,-68C502.5,-68 427.5,-68 427.5,-68 421.5,-68 415.5,-62 415.5,-56 415.5,-56 415.5,-12 415.5,-12 415.5,-6 421.5,0 427.5,0 427.5,0 502.5,0 502.5,0 508.5,0 514.5,-6 514.5,-12 514.5,-12 514.5,-56 514.5,-56 514.5,-62 508.5,-68 502.5,-68\"/>\n<text text-anchor=\"start\" x=\"435.5\" y=\"-52.8\" font-family=\"Helvetica,sans-Serif\" font-size=\"14.00\" fill=\"#000000\">gini = 0.0</text>\n<text text-anchor=\"start\" x=\"425.5\" y=\"-37.8\" font-family=\"Helvetica,sans-Serif\" font-size=\"14.00\" fill=\"#000000\">samples = 3</text>\n<text text-anchor=\"start\" x=\"423.5\" y=\"-22.8\" font-family=\"Helvetica,sans-Serif\" font-size=\"14.00\" fill=\"#000000\">value = [0, 3]</text>\n<text text-anchor=\"start\" x=\"434.5\" y=\"-7.8\" font-family=\"Helvetica,sans-Serif\" font-size=\"14.00\" fill=\"#000000\">class = ie</text>\n</g>\n<!-- 10&#45;&gt;12 -->\n<g id=\"edge10\" class=\"edge\">\n<title>10&#45;&gt;12</title>\n<path fill=\"none\" stroke=\"#000000\" d=\"M398.4705,-103.9815C407.2952,-94.6989 416.6562,-84.8522 425.4827,-75.5677\"/>\n<polygon fill=\"#000000\" stroke=\"#000000\" points=\"428.073,-77.9228 432.4265,-68.2637 422.9997,-73.0997 428.073,-77.9228\"/>\n</g>\n</g>\n</svg>\n"
          },
          "metadata": {
            "tags": []
          },
          "execution_count": 9
        }
      ]
    },
    {
      "cell_type": "code",
      "metadata": {
        "id": "mYsz4WQGqI-u"
      },
      "source": [
        ""
      ],
      "execution_count": null,
      "outputs": []
    }
  ]
}