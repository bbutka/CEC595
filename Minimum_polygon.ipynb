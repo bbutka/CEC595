{
  "nbformat": 4,
  "nbformat_minor": 0,
  "metadata": {
    "colab": {
      "provenance": [],
      "authorship_tag": "ABX9TyPJjGO6+MjcSCdFcFqo892k",
      "include_colab_link": true
    },
    "kernelspec": {
      "name": "python3",
      "display_name": "Python 3"
    },
    "language_info": {
      "name": "python"
    }
  },
  "cells": [
    {
      "cell_type": "markdown",
      "metadata": {
        "id": "view-in-github",
        "colab_type": "text"
      },
      "source": [
        "<a href=\"https://colab.research.google.com/github/bbutka/CEC595/blob/main/Minimum_polygon.ipynb\" target=\"_parent\"><img src=\"https://colab.research.google.com/assets/colab-badge.svg\" alt=\"Open In Colab\"/></a>"
      ]
    },
    {
      "cell_type": "code",
      "execution_count": null,
      "metadata": {
        "colab": {
          "base_uri": "https://localhost:8080/",
          "height": 457
        },
        "id": "a_p1o74E0UbV",
        "outputId": "50282aab-bae6-436c-80cc-fa3f4446e1ed"
      },
      "outputs": [
        {
          "output_type": "stream",
          "name": "stdout",
          "text": [
            "([0, 0], [-4, 5], [-4, 10], [4, 10], [7, 2])\n",
            "POLYGON ((4 10, -5.875 10, -2.125 0, 7.75 0, 4 10))\n"
          ]
        },
        {
          "output_type": "display_data",
          "data": {
            "text/plain": [
              "<Figure size 450x450 with 1 Axes>"
            ],
            "image/png": "[encoded data removed]"
          },
          "metadata": {}
        }
      ],
      "source": [
        "import math\n",
        "import numpy as np\n",
        "\n",
        "\n",
        "\"\"\"\n",
        "Minimal Enclosing Parallelogram\n",
        "\n",
        "area, v1, v2, v3, v4 = mep(convex_polygon)\n",
        "\n",
        "convex_polygon - array of points. Each point is a array [x, y] (1d array of 2 elements)\n",
        "points should be presented in clockwise order.\n",
        "\n",
        "the algorithm used is described in the following paper:\n",
        "http://citeseerx.ist.psu.edu/viewdoc/download?doi=10.1.1.53.9659&rep=rep1&type=pdf\n",
        "\"\"\"\n",
        "\n",
        "def distance(p1, p2, p):\n",
        "    return abs(((p2[1]-p1[1])*p[0] - (p2[0]-p1[0])*p[1] + p2[0]*p1[1] - p2[1]*p1[0]) /\n",
        "        math.sqrt((p2[1]-p1[1])**2 + (p2[0]-p1[0])**2))\n",
        "\n",
        "def antipodal_pairs(convex_polygon):\n",
        "    l = []\n",
        "    n = len(convex_polygon)\n",
        "    p1, p2 = convex_polygon[0], convex_polygon[1]\n",
        "\n",
        "    t, d_max = None, 0\n",
        "    for p in range(1, n):\n",
        "        d = distance(p1, p2, convex_polygon[p])\n",
        "        if d > d_max:\n",
        "            t, d_max = p, d\n",
        "    l.append(t)\n",
        "\n",
        "    for p in range(1, n):\n",
        "        p1, p2 = convex_polygon[p % n], convex_polygon[(p+1) % n]\n",
        "        _p, _pp = convex_polygon[t % n], convex_polygon[(t+1) % n]\n",
        "        while distance(p1, p2, _pp) > distance(p1, p2, _p):\n",
        "            t = (t + 1) % n\n",
        "            _p, _pp = convex_polygon[t % n], convex_polygon[(t+1) % n]\n",
        "        l.append(t)\n",
        "\n",
        "    return l\n",
        "\n",
        "\n",
        "# returns score, area, points from top-left, clockwise , favouring low area\n",
        "def mep(convex_polygon):\n",
        "    def compute_parallelogram(convex_polygon, l, z1, z2):\n",
        "        def parallel_vector(a, b, c):\n",
        "            v0 = [c[0]-a[0], c[1]-a[1]]\n",
        "            v1 = [b[0]-c[0], b[1]-c[1]]\n",
        "            return [c[0]-v0[0]-v1[0], c[1]-v0[1]-v1[1]]\n",
        "\n",
        "        # finds intersection between lines, given 2 points on each line.\n",
        "        # (x1, y1), (x2, y2) on 1st line, (x3, y3), (x4, y4) on 2nd line.\n",
        "        def line_intersection(x1, y1, x2, y2, x3, y3, x4, y4):\n",
        "            px = ((x1*y2 - y1*x2)*(x3 - x4) - (x1 - x2)*(x3*y4 - y3*x4))/((x1-x2)*(y3-y4) - (y1-y2)*(x3-x4))\n",
        "            py = ((x1*y2 - y1*x2)*(y3 - y4) - (y1 - y2)*(x3*y4 - y3*x4))/((x1-x2)*(y3-y4) - (y1-y2)*(x3-x4))\n",
        "            return px, py\n",
        "\n",
        "\n",
        "        # from each antipodal point, draw a parallel vector,\n",
        "        # so ap1->ap2 is parallel to p1->p2\n",
        "        #    aq1->aq2 is parallel to q1->q2\n",
        "        p1, p2 = convex_polygon[z1 % n], convex_polygon[(z1+1) % n]\n",
        "        q1, q2 = convex_polygon[z2 % n], convex_polygon[(z2+1) % n]\n",
        "        ap1, aq1 = convex_polygon[l[z1 % n]], convex_polygon[l[z2 % n]]\n",
        "        ap2, aq2 = parallel_vector(p1, p2, ap1), parallel_vector(q1, q2, aq1)\n",
        "\n",
        "        a = line_intersection(p1[0], p1[1], p2[0], p2[1], q1[0], q1[1], q2[0], q2[1])\n",
        "        b = line_intersection(p1[0], p1[1], p2[0], p2[1], aq1[0], aq1[1], aq2[0], aq2[1])\n",
        "        d = line_intersection(ap1[0], ap1[1], ap2[0], ap2[1], q1[0], q1[1], q2[0], q2[1])\n",
        "        c = line_intersection(ap1[0], ap1[1], ap2[0], ap2[1], aq1[0], aq1[1], aq2[0], aq2[1])\n",
        "\n",
        "        s = distance(a, b, c) * math.sqrt((b[0]-a[0])**2 + (b[1]-a[1])**2)\n",
        "        return s, a, b, c, d\n",
        "\n",
        "\n",
        "    z1, z2 = 0, 0\n",
        "    n = len(convex_polygon)\n",
        "\n",
        "    # for each edge, find antipodal vertice for it (step 1 in paper).\n",
        "    l = antipodal_pairs(convex_polygon)\n",
        "\n",
        "    so, ao, bo, co, do, z1o, z2o = 100000000000, None, None, None, None, None, None\n",
        "\n",
        "    # step 2 in paper.\n",
        "    for z1 in range(0, n):\n",
        "        if z1 >= z2:\n",
        "            z2 = z1 + 1\n",
        "        p1, p2 = convex_polygon[z1 % n], convex_polygon[(z1+1) % n]\n",
        "        a, b, c = convex_polygon[z2 % n], convex_polygon[(z2+1) % n], convex_polygon[l[z2 % n]]\n",
        "        if distance(p1, p2, a) >= distance(p1, p2, b):\n",
        "            continue\n",
        "\n",
        "        while distance(p1, p2, c) > distance(p1, p2, b):\n",
        "            z2 += 1\n",
        "            a, b, c = convex_polygon[z2 % n], convex_polygon[(z2+1) % n], convex_polygon[l[z2 % n]]\n",
        "\n",
        "        st, at, bt, ct, dt = compute_parallelogram(convex_polygon, l, z1, z2)\n",
        "\n",
        "        if st < so:\n",
        "            so, ao, bo, co, do, z1o, z2o = st, at, bt, ct, dt, z1, z2\n",
        "\n",
        "    return so, ao, bo, co, do, z1o, z2o\n",
        "\n",
        "from matplotlib import pyplot as plt\n",
        "from shapely.geometry.polygon import LinearRing, Polygon\n",
        "\n",
        "#tp=Polygon([(0,0),(-4,5),(-4,10),(4,10),(7,2)])\n",
        "#print(tp)\n",
        "#x,y = tp.exterior.xy\n",
        "tp=([0,0],[-4,5],[-4,10],[4,10],[7,2])\n",
        "print(tp)\n",
        "cp=Polygon(mep(tp)[1:5])\n",
        "print(cp)\n",
        "\n",
        "x,y = cp.exterior.xy\n",
        "fig = plt.figure(1, figsize=(5,5), dpi=90)\n",
        "ax = fig.add_subplot(111)\n",
        "ax.plot(x, y)\n",
        "ax.set_title('Polygon Edges')\n",
        "\n",
        "xrange = [10, 10]\n",
        "yrange = [-10, 10]\n",
        "#ax.set_xlim(*xrange)\n",
        "#ax.set_xticks(range(*xrange) + [xrange[-1]])\n",
        "#ax.set_ylim(*yrange)\n",
        "#ax.set_yticks(range(*yrange) + [yrange[-1]])\n",
        "#ax.set_aspect(1)"
      ]
    }
  ]
}